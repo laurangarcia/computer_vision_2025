{
 "cells": [
  {
   "cell_type": "markdown",
   "id": "162c79c7-1e23-4d73-8c4f-7ec73b0627d1",
   "metadata": {},
   "source": [
    " Problema 1. Codifique una función la cual en forma automática imprima en pantalla las propiedades básicas de una imagen. Estas son: tamaño, tipo de imagen (binaria, escala de gris, o rgb), tipo de pixel, rango de valores (i.e. [valor máximo, valor mínimo]), e intensidad promedio."
   ]
  },
  {
   "cell_type": "code",
   "execution_count": 15,
   "id": "0c28e611-9e75-4eb4-acae-1f49f7e60772",
   "metadata": {},
   "outputs": [
    {
     "name": "stdout",
     "output_type": "stream",
     "text": [
      "Tamaño de la imagen: 512 x 384 píxeles\n",
      "Tipo de imagen: RGB\n",
      "Tipo de pixel: uint8\n",
      "Rango de valores: [0, 255]\n",
      "Intensidad promedio: 81.60\n"
     ]
    }
   ],
   "source": [
    "import cv2\n",
    "import numpy as np\n",
    "import matplotlib.pyplot as plt\n",
    "\n",
    "def obtener_propiedades(imagen):\n",
    "    if imagen is None:\n",
    "        print(\"Error: No se pudo cargar la imagen.\")\n",
    "        return\n",
    "\n",
    "    altura, ancho = imagen.shape[:2]\n",
    "\n",
    "    if len(imagen.shape) == 2:\n",
    "        tipo_imagen = \"Escala de grises\"\n",
    "    elif len(imagen.shape) == 3:\n",
    "        if imagen.shape[2] == 3:\n",
    "            tipo_imagen = \"RGB\"\n",
    "        elif imagen.shape[2] == 1:\n",
    "            tipo_imagen = \"Binaria\"\n",
    "        else:\n",
    "            tipo_imagen = \"Desconocido\"\n",
    "    else:\n",
    "        tipo_imagen = \"Desconocido\"\n",
    "\n",
    "    tipo_pixel = imagen.dtype\n",
    "\n",
    "    valor_min = np.min(imagen)\n",
    "    valor_max = np.max(imagen)\n",
    "\n",
    "    intensidad_promedio = np.mean(imagen)\n",
    "\n",
    "    print(f\"Tamaño de la imagen: {ancho} x {altura} píxeles\")\n",
    "    print(f\"Tipo de imagen: {tipo_imagen}\")\n",
    "    print(f\"Tipo de pixel: {tipo_pixel}\")\n",
    "    print(f\"Rango de valores: [{valor_min}, {valor_max}]\")\n",
    "    print(f\"Intensidad promedio: {intensidad_promedio:.2f}\")\n",
    "\n",
    "im_bgr = cv2.imread('./images/peppers.png')\n",
    "im_rgb = cv2.cvtColor(im_bgr, cv2.COLOR_BGR2RGB)\n",
    "\n",
    "obtener_propiedades(im_rgb)\n"
   ]
  }
 ],
 "metadata": {
  "kernelspec": {
   "display_name": "cv-kernel",
   "language": "python",
   "name": "cv-kernel"
  },
  "language_info": {
   "codemirror_mode": {
    "name": "ipython",
    "version": 3
   },
   "file_extension": ".py",
   "mimetype": "text/x-python",
   "name": "python",
   "nbconvert_exporter": "python",
   "pygments_lexer": "ipython3",
   "version": "3.12.8"
  }
 },
 "nbformat": 4,
 "nbformat_minor": 5
}
